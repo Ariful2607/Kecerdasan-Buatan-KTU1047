{
 "cells": [
  {
   "cell_type": "code",
   "execution_count": null,
   "metadata": {},
   "outputs": [
    {
     "name": "stderr",
     "output_type": "stream",
     "text": [
      "c:\\Users\\Ariful\\anaconda3\\Lib\\site-packages\\sklearn\\neural_network\\_multilayer_perceptron.py:690: ConvergenceWarning: Stochastic Optimizer: Maximum iterations (200) reached and the optimization hasn't converged yet.\n",
      "  warnings.warn(\n"
     ]
    },
    {
     "data": {
      "text/plain": [
       "['model.joblib']"
      ]
     },
     "execution_count": 3,
     "metadata": {},
     "output_type": "execute_result"
    }
   ],
   "source": [
    "import joblib\n",
    "from sklearn.datasets import load_iris\n",
    "from sklearn.model_selection import train_test_split\n",
    "from sklearn.naive_bayes import GaussianNB\n",
    "from sklearn.tree import DecisionTreeClassifier\n",
    "from sklearn.neural_network import MLPClassifier\n",
    "from sklearn.ensemble import VotingClassifier\n",
    "\n",
    "# Load dataset\n",
    "iris = load_iris()\n",
    "X, y = iris.data, iris.target\n",
    "\n",
    "# Split data\n",
    "X_train, X_test, y_train, y_test = train_test_split(X, y, test_size=0.3, random_state=42)\n",
    "\n",
    "# Inisialisasi base models\n",
    "nb_model = GaussianNB()\n",
    "dt_model = DecisionTreeClassifier()\n",
    "nn_model = MLPClassifier()\n",
    "\n",
    "# Ensemble dengan metode Voting Classifier\n",
    "ensemble_model = VotingClassifier(estimators=[('nb', nb_model), ('dt', dt_model), ('nn', nn_model)], voting='hard')\n",
    "\n",
    "# Latih model ensemble pada data latih\n",
    "ensemble_model.fit(X_train, y_train)\n",
    "\n",
    "# Save the model\n",
    "joblib.dump(ensemble_model, 'model.joblib')\n"
   ]
  },
  {
   "cell_type": "code",
   "execution_count": 4,
   "metadata": {},
   "outputs": [
    {
     "name": "stdout",
     "output_type": "stream",
     "text": [
      " * Serving Flask app '__main__'\n",
      " * Debug mode: off\n"
     ]
    },
    {
     "name": "stderr",
     "output_type": "stream",
     "text": [
      "WARNING: This is a development server. Do not use it in a production deployment. Use a production WSGI server instead.\n",
      " * Running on all addresses (0.0.0.0)\n",
      " * Running on http://127.0.0.1:5000\n",
      " * Running on http://192.168.1.8:5000\n",
      "Press CTRL+C to quit\n",
      "127.0.0.1 - - [01/Jun/2025 12:51:06] \"GET / HTTP/1.1\" 304 -\n",
      "127.0.0.1 - - [01/Jun/2025 12:51:17] \"POST /predict HTTP/1.1\" 200 -\n",
      "127.0.0.1 - - [01/Jun/2025 12:51:22] \"POST /predict HTTP/1.1\" 200 -\n"
     ]
    }
   ],
   "source": [
    "from flask import Flask, request, jsonify, send_from_directory\n",
    "import joblib\n",
    "import numpy as np\n",
    "\n",
    "app = Flask(__name__)\n",
    "\n",
    "# Load the trained model\n",
    "model = joblib.load('model.joblib')\n",
    "\n",
    "# Mapping from numeric labels to species names\n",
    "species_mapping = {0: 'setosa', 1: 'versicolor', 2: 'virginica'}\n",
    "\n",
    "@app.route('/')\n",
    "def home():\n",
    "    return send_from_directory('.', 'index.html')\n",
    "\n",
    "@app.route('/predict', methods=['POST'])\n",
    "def predict():\n",
    "    data = request.json\n",
    "    features = np.array(data['features']).reshape(1, -1)\n",
    "    prediction = model.predict(features)\n",
    "    species = species_mapping[int(prediction[0])]\n",
    "    return jsonify({'prediction': species})\n",
    "\n",
    "if __name__ == '__main__':\n",
    "    app.run(host='0.0.0.0')\n"
   ]
  }
 ],
 "metadata": {
  "kernelspec": {
   "display_name": "base",
   "language": "python",
   "name": "python3"
  },
  "language_info": {
   "codemirror_mode": {
    "name": "ipython",
    "version": 3
   },
   "file_extension": ".py",
   "mimetype": "text/x-python",
   "name": "python",
   "nbconvert_exporter": "python",
   "pygments_lexer": "ipython3",
   "version": "3.12.7"
  }
 },
 "nbformat": 4,
 "nbformat_minor": 2
}
