{
 "cells": [
  {
   "cell_type": "code",
   "execution_count": 2,
   "id": "1102865c",
   "metadata": {},
   "outputs": [
    {
     "name": "stdout",
     "output_type": "stream",
     "text": [
      "Model training dan penyimpanan selesai.\n"
     ]
    },
    {
     "name": "stderr",
     "output_type": "stream",
     "text": [
      "c:\\Users\\Ariful\\anaconda3\\Lib\\site-packages\\sklearn\\cluster\\_kmeans.py:1429: UserWarning: KMeans is known to have a memory leak on Windows with MKL, when there are less chunks than available threads. You can avoid it by setting the environment variable OMP_NUM_THREADS=4.\n",
      "  warnings.warn(\n"
     ]
    }
   ],
   "source": [
    "import numpy as np\n",
    "from sklearn.cluster import KMeans\n",
    "from sklearn.preprocessing import StandardScaler\n",
    "import joblib\n",
    "\n",
    "# 1. Data dummy untuk pelatihan (ganti dengan data asli Anda)\n",
    "np.random.seed(42)\n",
    "data = np.random.rand(1000, 5)  # 1000 sampel, 5 fitur\n",
    "\n",
    "# 2. Standarisasi data (penting untuk clustering)\n",
    "scaler = StandardScaler()\n",
    "data_scaled = scaler.fit_transform(data)\n",
    "\n",
    "# 3. Pelatihan model K-Means\n",
    "n_clusters = 5\n",
    "kmeans = KMeans(n_clusters=n_clusters, random_state=42)\n",
    "kmeans.fit(data_scaled)\n",
    "\n",
    "# 4. Simpan model centroid (hanya centroid yang diperlukan untuk inference)\n",
    "centroids = kmeans.cluster_centers_\n",
    "\n",
    "# 5. Optimasi model: quantization centroid ke float16 untuk mengurangi ukuran\n",
    "centroids_optimized = centroids.astype(np.float16)\n",
    "\n",
    "# 6. Simpan scaler dan centroid ke file (untuk deployment)\n",
    "joblib.dump(scaler, 'scaler.pkl')\n",
    "np.save('centroids_optimized.npy', centroids_optimized)\n",
    "\n",
    "print(\"Model training dan penyimpanan selesai.\")\n"
   ]
  }
 ],
 "metadata": {
  "kernelspec": {
   "display_name": "base",
   "language": "python",
   "name": "python3"
  },
  "language_info": {
   "codemirror_mode": {
    "name": "ipython",
    "version": 3
   },
   "file_extension": ".py",
   "mimetype": "text/x-python",
   "name": "python",
   "nbconvert_exporter": "python",
   "pygments_lexer": "ipython3",
   "version": "3.12.7"
  }
 },
 "nbformat": 4,
 "nbformat_minor": 5
}
