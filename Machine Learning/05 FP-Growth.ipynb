{
 "cells": [
  {
   "cell_type": "code",
   "execution_count": 1,
   "metadata": {},
   "outputs": [],
   "source": [
    "from collections import defaultdict\n",
    "from itertools import chain, combinations\n",
    "# Data Transaksi\n",
    "transactions = [\n",
    "    ['Roti', 'Susu'],\n",
    "    ['Roti', 'Mentega', 'Telur'],\n",
    "    ['Mentega', 'Susu', 'Keju'],\n",
    "    ['Roti', 'Mentega', 'Susu'],\n",
    "    ['Roti', 'Mentega', 'Susu', 'Keju']\n",
    "]\n",
    "\n",
    "min_support = 3"
   ]
  },
  {
   "cell_type": "code",
   "execution_count": 2,
   "metadata": {},
   "outputs": [
    {
     "name": "stdout",
     "output_type": "stream",
     "text": [
      "Item Frequency: defaultdict(<class 'int'>, {'Roti': 4, 'Susu': 4, 'Mentega': 4, 'Telur': 1, 'Keju': 2})\n"
     ]
    }
   ],
   "source": [
    "def get_item_frequency(transactions):\n",
    "    item_frequency = defaultdict(int)\n",
    "    for transaction in transactions:\n",
    "        for item in transaction:\n",
    "            item_frequency[item] += 1\n",
    "    return item_frequency\n",
    "\n",
    "item_frequency = get_item_frequency(transactions)\n",
    "print(\"Item Frequency:\", item_frequency)"
   ]
  },
  {
   "cell_type": "code",
   "execution_count": 3,
   "metadata": {},
   "outputs": [
    {
     "name": "stdout",
     "output_type": "stream",
     "text": [
      "Header Table: {'Roti': [4, None], 'Susu': [4, None], 'Mentega': [4, None]}\n"
     ]
    }
   ],
   "source": [
    "def create_header_table(item_frequency, min_support):\n",
    "    header_table = {}\n",
    "    for item, count in item_frequency.items():\n",
    "        if count >= min_support:\n",
    "            header_table[item] = [count, None]\n",
    "    return header_table\n",
    "\n",
    "header_table = create_header_table(item_frequency, min_support)\n",
    "print(\"Header Table:\", header_table)\n"
   ]
  },
  {
   "cell_type": "code",
   "execution_count": 4,
   "metadata": {},
   "outputs": [
    {
     "name": "stdout",
     "output_type": "stream",
     "text": [
      " Null   1\n",
      "   Roti   4\n",
      "     Susu   1\n",
      "     Mentega   3\n",
      "       Susu   2\n",
      "   Mentega   1\n",
      "     Susu   1\n"
     ]
    }
   ],
   "source": [
    "class TreeNode:\n",
    "    def __init__(self, item, count, parent):\n",
    "        self.item = item\n",
    "        self.count = count\n",
    "        self.parent = parent\n",
    "        self.children = {}\n",
    "        self.link = None\n",
    "\n",
    "    def increment(self, count):\n",
    "        self.count += count\n",
    "\n",
    "def update_header_table(node, target_node):\n",
    "    while node.link is not None:\n",
    "        node = node.link\n",
    "    node.link = target_node\n",
    "\n",
    "def update_tree(items, node, header_table):\n",
    "    if items:\n",
    "        first_item = items[0]\n",
    "        if first_item in node.children:\n",
    "            node.children[first_item].increment(1)\n",
    "        else:\n",
    "            new_node = TreeNode(first_item, 1, node)\n",
    "            node.children[first_item] = new_node\n",
    "            if header_table[first_item][1] is None:\n",
    "                header_table[first_item][1] = new_node\n",
    "            else:\n",
    "                update_header_table(header_table[first_item][1], new_node)\n",
    "        update_tree(items[1:], node.children[first_item], header_table)\n",
    "\n",
    "def create_fp_tree(transactions, min_support):\n",
    "    header_table = create_header_table(get_item_frequency(transactions), min_support)\n",
    "    root = TreeNode('Null', 1, None)\n",
    "    for transaction in transactions:\n",
    "        filtered_transaction = [item for item in transaction if item in header_table]\n",
    "        filtered_transaction.sort(key=lambda item: header_table[item][0], reverse=True)\n",
    "        update_tree(filtered_transaction, root, header_table)\n",
    "    return root, header_table\n",
    "\n",
    "fp_tree, header_table = create_fp_tree(transactions, min_support)\n",
    "\n",
    "def print_tree(node, indent=0):\n",
    "    print('  ' * indent, node.item, ' ', node.count)\n",
    "    for child in node.children.values():\n",
    "        print_tree(child, indent + 1)\n",
    "\n",
    "print_tree(fp_tree)"
   ]
  },
  {
   "cell_type": "code",
   "execution_count": 5,
   "metadata": {},
   "outputs": [
    {
     "name": "stdout",
     "output_type": "stream",
     "text": [
      "Conditional pattern base for Roti: []\n",
      "Conditional pattern base for Susu: [(['Roti'], 1), (['Mentega'], 1), (['Mentega', 'Roti'], 2)]\n",
      "Conditional pattern base for Roti: [(['Mentega'], 2)]\n",
      "Conditional pattern base for Mentega: []\n",
      "Conditional pattern base for Mentega: [(['Roti'], 3)]\n",
      "Conditional pattern base for Roti: []\n",
      "Frequent Itemsets:\n",
      "{'Roti'}\n",
      "{'Susu'}\n",
      "{'Susu', 'Roti'}\n",
      "{'Susu', 'Mentega'}\n",
      "{'Mentega'}\n",
      "{'Mentega', 'Roti'}\n"
     ]
    }
   ],
   "source": [
    "def ascend_tree(node):\n",
    "    prefix_path = []\n",
    "    while node.parent is not None:\n",
    "        prefix_path.append(node.item)\n",
    "        node = node.parent\n",
    "    return prefix_path[1:]\n",
    "\n",
    "def find_prefix_paths(base_pattern, node):\n",
    "    conditional_patterns = []\n",
    "    while node is not None:\n",
    "        prefix_path = ascend_tree(node)\n",
    "        if len(prefix_path) > 0:\n",
    "            conditional_patterns.append((prefix_path, node.count))\n",
    "        node = node.link\n",
    "    return conditional_patterns\n",
    "\n",
    "def mine_tree(header_table, min_support, prefix, frequent_itemsets):\n",
    "    sorted_items = [item for item, nodes in sorted(header_table.items(), key=lambda p: p[1][0])]\n",
    "    for base_pattern in sorted_items:\n",
    "        new_frequent_set = prefix.copy()\n",
    "        new_frequent_set.add(base_pattern)\n",
    "        frequent_itemsets.append(new_frequent_set)\n",
    "        conditional_pattern_base = find_prefix_paths(base_pattern, header_table[base_pattern][1])\n",
    "        print(f\"Conditional pattern base for {base_pattern}: {conditional_pattern_base}\")\n",
    "        conditional_transactions = []\n",
    "        for pattern, count in conditional_pattern_base:\n",
    "            for _ in range(count):\n",
    "                conditional_transactions.append(pattern)\n",
    "        if conditional_transactions:\n",
    "            conditional_tree, new_header_table = create_fp_tree(conditional_transactions, min_support)\n",
    "            if new_header_table is not None:\n",
    "                mine_tree(new_header_table, min_support, new_frequent_set, frequent_itemsets)\n",
    "\n",
    "frequent_itemsets = []\n",
    "mine_tree(header_table, min_support, set(), frequent_itemsets)\n",
    "\n",
    "# Tampilkan hasil\n",
    "print(\"Frequent Itemsets:\")\n",
    "for itemset in frequent_itemsets:\n",
    "    print(itemset)"
   ]
  },
  {
   "cell_type": "code",
   "execution_count": 6,
   "metadata": {},
   "outputs": [
    {
     "name": "stdout",
     "output_type": "stream",
     "text": [
      "Itemset Support:\n",
      "{'Roti'}: 4\n",
      "{'Susu'}: 4\n",
      "{'Susu', 'Roti'}: 3\n",
      "{'Susu', 'Mentega'}: 3\n",
      "{'Mentega'}: 4\n",
      "{'Mentega', 'Roti'}: 3\n",
      "Association Rules:\n",
      "{'Susu'} -> {'Roti'} (confidence: 0.75, lift: 0.94)\n",
      "{'Roti'} -> {'Susu'} (confidence: 0.75, lift: 0.94)\n",
      "{'Susu'} -> {'Mentega'} (confidence: 0.75, lift: 0.94)\n",
      "{'Mentega'} -> {'Susu'} (confidence: 0.75, lift: 0.94)\n",
      "{'Mentega'} -> {'Roti'} (confidence: 0.75, lift: 0.94)\n",
      "{'Roti'} -> {'Mentega'} (confidence: 0.75, lift: 0.94)\n"
     ]
    }
   ],
   "source": [
    "# Menghitung support untuk setiap itemset\n",
    "itemset_support = defaultdict(int)\n",
    "for itemset in frequent_itemsets:\n",
    "    for transaction in transactions:\n",
    "        if itemset.issubset(transaction):\n",
    "            itemset_support[frozenset(itemset)] += 1\n",
    "\n",
    "# Menampilkan support untuk setiap itemset\n",
    "print(\"Itemset Support:\")\n",
    "for itemset, support in itemset_support.items():\n",
    "    print(f\"{set(itemset)}: {support}\")\n",
    "\n",
    "# Generate all subsets of a given itemset\n",
    "def subsets(itemset):\n",
    "    return chain(*[combinations(itemset, i + 1) for i in range(len(itemset))])\n",
    "\n",
    "# Menghitung association rules\n",
    "association_rules = []\n",
    "for itemset in frequent_itemsets:\n",
    "    for subset in subsets(itemset):\n",
    "        subset = frozenset(subset)\n",
    "        remaining = frozenset(itemset) - subset\n",
    "        if len(remaining) > 0:\n",
    "            confidence = itemset_support[frozenset(itemset)] / itemset_support[subset]\n",
    "            lift = confidence / (itemset_support[remaining] / len(transactions))\n",
    "            rule = (subset, remaining, confidence, lift)\n",
    "            association_rules.append(rule)\n",
    "\n",
    "# Menampilkan association rules\n",
    "print(\"Association Rules:\")\n",
    "for rule in association_rules:\n",
    "    print(f\"{set(rule[0])} -> {set(rule[1])} (confidence: {rule[2]:.2f}, lift: {rule[3]:.2f})\")"
   ]
  }
 ],
 "metadata": {
  "kernelspec": {
   "display_name": "base",
   "language": "python",
   "name": "python3"
  },
  "language_info": {
   "codemirror_mode": {
    "name": "ipython",
    "version": 3
   },
   "file_extension": ".py",
   "mimetype": "text/x-python",
   "name": "python",
   "nbconvert_exporter": "python",
   "pygments_lexer": "ipython3",
   "version": "3.11.9"
  }
 },
 "nbformat": 4,
 "nbformat_minor": 2
}
