{
 "cells": [
  {
   "cell_type": "code",
   "execution_count": 1,
   "metadata": {},
   "outputs": [
    {
     "name": "stdout",
     "output_type": "stream",
     "text": [
      "Frequent Itemsets:\n",
      "('Mentega',) 0.8\n",
      "('Roti',) 0.8\n",
      "('Susu',) 0.8\n",
      "('Roti', 'Susu') 0.6\n",
      "('Mentega', 'Susu') 0.6\n",
      "('Roti', 'Mentega') 0.6\n",
      "\n",
      "Association Rules:\n",
      "('Roti',) -> ('Susu',) (confidence: 0.7499999999999999)\n",
      "('Susu',) -> ('Roti',) (confidence: 0.7499999999999999)\n",
      "('Mentega',) -> ('Susu',) (confidence: 0.7499999999999999)\n",
      "('Susu',) -> ('Mentega',) (confidence: 0.7499999999999999)\n",
      "('Roti',) -> ('Mentega',) (confidence: 0.7499999999999999)\n",
      "('Mentega',) -> ('Roti',) (confidence: 0.7499999999999999)\n"
     ]
    }
   ],
   "source": [
    "from itertools import combinations, chain\n",
    "\n",
    "# Data transaksi\n",
    "transactions = [\n",
    "    ['Roti', 'Susu'],\n",
    "    ['Roti', 'Mentega', 'Telur'],\n",
    "    ['Mentega', 'Susu', 'Keju'],\n",
    "    ['Roti', 'Mentega', 'Susu'],\n",
    "    ['Roti', 'Mentega', 'Susu', 'Keju']\n",
    "]\n",
    "\n",
    "# Menghitung support\n",
    "def calculate_support(itemset, transactions):\n",
    "    return sum(1 for transaction in transactions if set(itemset).issubset(set(transaction))) / len(transactions)\n",
    "\n",
    "# Menemukan frequent itemsets\n",
    "def apriori(transactions, min_support):\n",
    "    items = sorted(set(item for transaction in transactions for item in transaction))\n",
    "    itemsets = [tuple([item]) for item in items]\n",
    "    frequent_itemsets = []\n",
    "    \n",
    "    while itemsets:\n",
    "        # Menghitung support untuk setiap itemset\n",
    "        itemset_support = {itemset: calculate_support(itemset, transactions) for itemset in itemsets}\n",
    "        # Menyaring itemsets berdasarkan min_support\n",
    "        itemsets = [itemset for itemset, support in itemset_support.items() if support >= min_support]\n",
    "        # Menyimpan frequent itemsets yang lolos\n",
    "        frequent_itemsets.extend(itemsets)\n",
    "        # Menghasilkan kombinasi baru dari itemsets\n",
    "        itemsets = list(set(chain.from_iterable(combinations(set(a) | set(b), len(a) + 1) for a in itemsets for b in itemsets if len(set(a) | set(b)) == len(a) + 1)))\n",
    "    \n",
    "    return frequent_itemsets\n",
    "\n",
    "# Menghasilkan association rules\n",
    "def generate_association_rules(frequent_itemsets, transactions, min_confidence):\n",
    "    rules = []\n",
    "    for itemset in frequent_itemsets:\n",
    "        if len(itemset) > 1:\n",
    "            for i in range(1, len(itemset)):\n",
    "                for antecedent in combinations(itemset, i):\n",
    "                    consequent = tuple(sorted(set(itemset) - set(antecedent)))\n",
    "                    antecedent_support = calculate_support(antecedent, transactions)\n",
    "                    itemset_support = calculate_support(itemset, transactions)\n",
    "                    confidence = itemset_support / antecedent_support\n",
    "                    if confidence >= min_confidence:\n",
    "                        rules.append((antecedent, consequent, confidence))\n",
    "    return rules\n",
    "\n",
    "# Menemukan frequent itemsets dan association rules\n",
    "min_support = 0.6\n",
    "min_confidence = 0.5\n",
    "frequent_itemsets = apriori(transactions, min_support)\n",
    "rules = generate_association_rules(frequent_itemsets, transactions, min_confidence)\n",
    "\n",
    "# Menampilkan hasil\n",
    "print(\"Frequent Itemsets:\")\n",
    "for itemset in frequent_itemsets:\n",
    "    print(itemset, calculate_support(itemset, transactions))\n",
    "\n",
    "print(\"\\nAssociation Rules:\")\n",
    "for antecedent, consequent, confidence in rules:\n",
    "    print(f\"{antecedent} -> {consequent} (confidence: {confidence})\")\n"
   ]
  }
 ],
 "metadata": {
  "kernelspec": {
   "display_name": "base",
   "language": "python",
   "name": "python3"
  },
  "language_info": {
   "codemirror_mode": {
    "name": "ipython",
    "version": 3
   },
   "file_extension": ".py",
   "mimetype": "text/x-python",
   "name": "python",
   "nbconvert_exporter": "python",
   "pygments_lexer": "ipython3",
   "version": "3.11.9"
  }
 },
 "nbformat": 4,
 "nbformat_minor": 2
}
